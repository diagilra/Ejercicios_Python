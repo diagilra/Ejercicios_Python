{
 "cells": [
  {
   "cell_type": "markdown",
   "metadata": {},
   "source": [
    "1. Define la clase Planta, la cuál en su constructor recibe los parámetros: especie (str) y altura (int) y guarda la información en atributos con los mismos nombres. Tu código deberá ejecutarse correctamente con un código como el siguiente:"
   ]
  },
  {
   "cell_type": "code",
   "execution_count": 1,
   "metadata": {},
   "outputs": [],
   "source": [
    "class Planta:\n",
    "    def __init__(self, especie, altura):\n",
    "        self.especie=especie\n",
    "        self.altura=altura"
   ]
  },
  {
   "cell_type": "code",
   "execution_count": 2,
   "metadata": {},
   "outputs": [
    {
     "name": "stdout",
     "output_type": "stream",
     "text": [
      "Washingtonia filifera\n",
      "15\n"
     ]
    }
   ],
   "source": [
    "a = Planta('Washingtonia filifera', 15)\n",
    "print(a.especie)\n",
    "print(a.altura)"
   ]
  },
  {
   "cell_type": "markdown",
   "metadata": {},
   "source": [
    "2. Estás digitalizando la información de tu restaurante. Para manejar la información del menú decides crear la clase Menu. La clase deberá recibir los parámetros: comidas (lista de strings) y precios (lista de ints del mismo largo que la lista comidas). Además, deberás definir el método __str__(self). Este método deberá retornar tantas líneas como comidas tenga el menú, donde cada línea deberá ser una comida seguida de dos puntos y su precio.\n",
    "Tu código deberá ejecutarse correctamente con un código como el siguiente:"
   ]
  },
  {
   "cell_type": "code",
   "execution_count": 7,
   "metadata": {},
   "outputs": [],
   "source": [
    "# Solución\n",
    "class Menu:\n",
    "    def __init__(self, comidas, precios):\n",
    "        self.comidas = comidas\n",
    "        self.precios = precios\n",
    "    \n",
    "    def __str__(self):\n",
    "        menu_str = \"\"\n",
    "        for i in range(len(self.comidas)):\n",
    "            menu_str += f\"{self.comidas[i]}: {self.precios[i]}\\n\"\n",
    "        return menu_str.strip() \n"
   ]
  },
  {
   "cell_type": "code",
   "execution_count": 8,
   "metadata": {},
   "outputs": [
    {
     "name": "stdout",
     "output_type": "stream",
     "text": [
      "Pato a la mostaza: 20000\n",
      "Hamburguesa: 8000\n",
      "Ensalada: 6000\n",
      "Lasagna: 9000\n"
     ]
    }
   ],
   "source": [
    "comidas = ['Pato a la mostaza', 'Hamburguesa', 'Ensalada', 'Lasagna']\n",
    "precios = [20000, 8000, 6000, 9000]\n",
    "menu = Menu(comidas, precios)\n",
    "\n",
    "print(menu)"
   ]
  }
 ],
 "metadata": {
  "kernelspec": {
   "display_name": "Python 3",
   "language": "python",
   "name": "python3"
  },
  "language_info": {
   "codemirror_mode": {
    "name": "ipython",
    "version": 3
   },
   "file_extension": ".py",
   "mimetype": "text/x-python",
   "name": "python",
   "nbconvert_exporter": "python",
   "pygments_lexer": "ipython3",
   "version": "3.13.2"
  }
 },
 "nbformat": 4,
 "nbformat_minor": 2
}
