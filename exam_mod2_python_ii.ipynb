{
 "cells": [
  {
   "cell_type": "code",
   "execution_count": 2,
   "metadata": {},
   "outputs": [
    {
     "name": "stdout",
     "output_type": "stream",
     "text": [
      "('Toy Story', 1995, '01:21', ['animacion', 'comedia', 'infantil'])\n"
     ]
    }
   ],
   "source": [
    "m1 = ('Toy Story', 1995, '01:21', ['animacion', 'comedia'])\n",
    "\n",
    "m1[3].append( 'infantil' )\n",
    "\n",
    "print(m1)"
   ]
  },
  {
   "cell_type": "code",
   "execution_count": 6,
   "metadata": {},
   "outputs": [
    {
     "name": "stdout",
     "output_type": "stream",
     "text": [
      "[3.2, 4.7, 6.8, 5.1]\n"
     ]
    }
   ],
   "source": [
    "tupla = (2.0, 4.7, 6.8, 5.1)\n",
    "\n",
    "lista = []\n",
    "for nota in tupla:\n",
    "    lista.append(nota)\n",
    "lista[0] = 3.2\n",
    "\n",
    "print(lista)"
   ]
  },
  {
   "cell_type": "code",
   "execution_count": 8,
   "metadata": {},
   "outputs": [
    {
     "name": "stdout",
     "output_type": "stream",
     "text": [
      "['Alicia', 'Bob', 'Carlos', 'David', 'Eva', 'Fabricio', 'Gloria']\n"
     ]
    }
   ],
   "source": [
    "clientes = ['Alicia', 'Bob', 'Carlos', 'David']\n",
    "clientes_nuevos = ('Eva', 'Fabricio', 'Gloria')\n",
    "\n",
    "for cliente in clientes_nuevos:\n",
    "    clientes.append(cliente)\n",
    "\n",
    "print(clientes)"
   ]
  },
  {
   "cell_type": "code",
   "execution_count": 10,
   "metadata": {},
   "outputs": [
    {
     "name": "stdout",
     "output_type": "stream",
     "text": [
      "deque([5, 4, 3, 2, 1])\n"
     ]
    }
   ],
   "source": [
    "from collections import deque\n",
    "\n",
    "deq = deque( (1,2,3,4,5) )\n",
    "\n",
    "deq.reverse()\n",
    "\n",
    "print(deq)"
   ]
  },
  {
   "cell_type": "code",
   "execution_count": 11,
   "metadata": {},
   "outputs": [
    {
     "name": "stdout",
     "output_type": "stream",
     "text": [
      "deque([1, 2, 3, 4, 5])\n"
     ]
    }
   ],
   "source": [
    "from collections import deque\n",
    "\n",
    "deq = deque( (1,2,3,4,5) )\n",
    "\n",
    "deq2 = deque()\n",
    "for i in deq:\n",
    "    deq2.append( i )\n",
    "deq = deq2\n",
    "\n",
    "print(deq)"
   ]
  }
 ],
 "metadata": {
  "kernelspec": {
   "display_name": "base",
   "language": "python",
   "name": "python3"
  },
  "language_info": {
   "codemirror_mode": {
    "name": "ipython",
    "version": 3
   },
   "file_extension": ".py",
   "mimetype": "text/x-python",
   "name": "python",
   "nbconvert_exporter": "python",
   "pygments_lexer": "ipython3",
   "version": "3.12.7"
  }
 },
 "nbformat": 4,
 "nbformat_minor": 2
}
