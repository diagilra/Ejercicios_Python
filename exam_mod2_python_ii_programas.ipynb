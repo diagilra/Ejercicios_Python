{
 "cells": [
  {
   "cell_type": "markdown",
   "metadata": {},
   "source": [
    "1. Si se tiene la siguiente lista de vuelos"
   ]
  },
  {
   "cell_type": "code",
   "execution_count": 1,
   "metadata": {},
   "outputs": [],
   "source": [
    "vuelos = [ ['Origen', 'Destino', 'precio', 'asientos disponibles', 'Fecha'],\n",
    "['Santiago', 'Puerto Montt', 35000, 30, '11 Enero 2023'],\n",
    "['Santiago', 'Concepción', 30000, 40, '20 Febrero 2023'],\n",
    "['Santiago', 'Puerto Montt', 28000, 2, '19 Enero 2023'],\n",
    "['Santiago', 'Puerto Montt', 12000, 100, '20 Mayo 2023'],\n",
    "['Antofagasta', 'Santiago', 27000, 14, '18 Abril 2023' ]\n",
    "]"
   ]
  },
  {
   "cell_type": "markdown",
   "metadata": {},
   "source": [
    "Definir una función vuelos_disponibles(vuelos, origen, destino, pasajeros), la cual recibe una lista con la información de todos los vuelos, dos strings, uno con la ciudad de origen y otro con la ciudad de destino, y por último un entero con el número de pasajeros con los que quieres viajar. La función deberá retornar una lista con todos los vuelos que vayan desde la ciudad de origen al destino que tengan suficientes asientos disponibles para todos los pasajeros."
   ]
  },
  {
   "cell_type": "code",
   "execution_count": 2,
   "metadata": {},
   "outputs": [],
   "source": [
    "def vuelos_disponibles(vuelos, origen, destino, pasajeros):\n",
    "    vuelos_filtrados = []\n",
    "    \n",
    "# Normalizar los datos o convertirlos en minuscula\n",
    "    origen = origen.lower()\n",
    "    destino = destino.lower()\n",
    "    \n",
    "    for vuelo in vuelos[1:]:\n",
    "        # Normalizamos los valores del vuelo\n",
    "        vuelo_origen = vuelo[0].lower()\n",
    "        vuelo_destino = vuelo[1].lower()\n",
    "        \n",
    "        # Comparamos los valores normalizados\n",
    "        if vuelo_origen == origen and vuelo_destino == destino:\n",
    "            if vuelo[3] >= pasajeros:\n",
    "                vuelos_filtrados.append(vuelo)\n",
    "    \n",
    "    return vuelos_filtrados\n",
    "\n",
    "\n",
    "    vuelos = [['Origen', 'Destino', 'precio', 'asientos disponibles', 'Fecha'], ['Antofagasta', 'Antofagasta', 31326, 9, '18 Abril 2023'], ['Antofagasta', 'Antofagasta', 55683, 9, '20 Mayo 2023'], ['Concepción', 'Puerto Montt', 46537, 7, '19 Enero 2023'], ['Puerto Montt', 'Santiago', 50262, 9, '18 Abril 2023'], ['Puerto Montt', 'Concepción', 33236, 6, '19 Enero 2023'], ['Antofagasta', 'Santiago', 41593, 11, '19 Enero 2023'], ['Puerto Montt', 'Antofagasta', 44506, 13, '19 Enero 2023'], ['Santiago', 'Santiago', 33056, 11, '11 Enero 2023']]\n",
    "\n",
    "    print(vuelos_disponibles(vuelos, Antofagasta,Concepción, 4 ))"
   ]
  }
 ],
 "metadata": {
  "kernelspec": {
   "display_name": "base",
   "language": "python",
   "name": "python3"
  },
  "language_info": {
   "codemirror_mode": {
    "name": "ipython",
    "version": 3
   },
   "file_extension": ".py",
   "mimetype": "text/x-python",
   "name": "python",
   "nbconvert_exporter": "python",
   "pygments_lexer": "ipython3",
   "version": "3.12.7"
  }
 },
 "nbformat": 4,
 "nbformat_minor": 2
}
