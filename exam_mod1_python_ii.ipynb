{
 "cells": [
  {
   "cell_type": "markdown",
   "metadata": {},
   "source": [
    "3. Imprimir cada nombre seguido de su año de nacimiento"
   ]
  },
  {
   "cell_type": "code",
   "execution_count": 2,
   "metadata": {},
   "outputs": [
    {
     "name": "stdout",
     "output_type": "stream",
     "text": [
      "Alicia 1998\n",
      "Bob 1990\n",
      "Carlos 1986\n",
      "David 2001\n"
     ]
    }
   ],
   "source": [
    "lista = ['Alicia', 1998, 'Bob', 1990, 'Carlos', 1986, 'David', 2001]\n",
    "\n",
    "for i in range(0, len(lista), 2):\n",
    "    nombre = lista[i]\n",
    "    nacimiento=lista[i+1]\n",
    "    print(nombre, nacimiento)\n"
   ]
  },
  {
   "cell_type": "markdown",
   "metadata": {},
   "source": [
    "4. Imprimir la lista de atrás hacia adelante"
   ]
  },
  {
   "cell_type": "code",
   "execution_count": 3,
   "metadata": {},
   "outputs": [
    {
     "name": "stdout",
     "output_type": "stream",
     "text": [
      "David\n",
      "Carlos\n",
      "Bob\n",
      "Alicia\n"
     ]
    }
   ],
   "source": [
    "lista = ['Alicia', 'Bob', 'Carlos', 'David']\n",
    "\n",
    "while len(lista) > 0:\n",
    "    ultimo_cliente = len(lista) - 1\n",
    "    cliente = lista.pop(ultimo_cliente)\n",
    "    print(cliente)\n"
   ]
  },
  {
   "cell_type": "markdown",
   "metadata": {},
   "source": [
    "5. Imprimir el nombre de cada dueño seguido del nombre de su mascota"
   ]
  },
  {
   "cell_type": "code",
   "execution_count": 5,
   "metadata": {},
   "outputs": [
    {
     "name": "stdout",
     "output_type": "stream",
     "text": [
      "Dueño: Alicia - Mascota: Pelusa\n",
      "Dueño: Bob - Mascota: Luke\n",
      "Dueño: Carlos - Mascota: Mickey\n",
      "Dueño: David - Mascota: Madonna\n"
     ]
    }
   ],
   "source": [
    "d = ['Alicia', 'Bob', 'Carlos', 'David']    # lista de dueños\n",
    "m = ['Pelusa', 'Luke', 'Mickey', 'Madonna'] # lista de mascotas\n",
    "\n",
    "for i in range(len(d)):\n",
    "    print(f\"Dueño: {d[i]} - Mascota: {m[i]}\")"
   ]
  },
  {
   "cell_type": "markdown",
   "metadata": {},
   "source": [
    "6. Tienes una lista con datos de una estación meteorológica, esta contiene los strings 'soleado', 'nublado' o 'lluvia'. Siempre después de lluvia viene un float con la cantidad de milímetros de agua que cayeron durante la llovizna.\n",
    "Escribe un código que imprima la suma total de milímetros de agua que cayeron"
   ]
  },
  {
   "cell_type": "code",
   "execution_count": 6,
   "metadata": {},
   "outputs": [
    {
     "name": "stdout",
     "output_type": "stream",
     "text": [
      "Total de milímetros de agua caídos: 3.3\n"
     ]
    }
   ],
   "source": [
    "lista = ['soleado', 'nublado', 'soleado', 'lluvia', 2.4, 'lluvia', 0.1, 'nublado', 'lluvia', 0.8]\n",
    "\n",
    "suma=0\n",
    "for i in range(len(lista)):\n",
    "    if lista[i] == 'lluvia':\n",
    "        suma += lista[i + 1]\n",
    "\n",
    "print(f\"Total de milímetros de agua caídos: {suma}\")\n",
    "\n"
   ]
  },
  {
   "cell_type": "markdown",
   "metadata": {},
   "source": [
    "8. Crear un programa en Python que imprima el nombre del la persona con mayor número de votos"
   ]
  },
  {
   "cell_type": "code",
   "execution_count": 7,
   "metadata": {},
   "outputs": [
    {
     "name": "stdout",
     "output_type": "stream",
     "text": [
      "Bob\n"
     ]
    }
   ],
   "source": [
    "votos = [['Alicia', 35],\n",
    "         ['Bob', 42],\n",
    "         ['Carlos', 29],\n",
    "         ['David', 33]\n",
    "]\n",
    "\n",
    "mejor = ['', 0]\n",
    "for candidato in votos:\n",
    "    if candidato[1] > mejor[1]:\n",
    "        mejor = candidato\n",
    "print(mejor[0])\n"
   ]
  },
  {
   "cell_type": "markdown",
   "metadata": {},
   "source": [
    "9. Reemplazar los valores negativos por cero"
   ]
  },
  {
   "cell_type": "code",
   "execution_count": 13,
   "metadata": {},
   "outputs": [
    {
     "name": "stdout",
     "output_type": "stream",
     "text": [
      "[[0, 2, 0, 40], [9, 65, 0, 0], [0, 0, 9, 2]]\n"
     ]
    }
   ],
   "source": [
    "lista = [[-1, 2, -5, 40],\n",
    "         [9, 65, -6, -34],\n",
    "         [0, -4, 9, 2]\n",
    "        ]\n",
    "\n",
    "for i in range(len(lista)):\n",
    "    for j in range(len(lista[0])):\n",
    "        if lista[i][j] < 0:\n",
    "            lista[i][j]=0\n",
    "\n",
    "print(lista)\n"
   ]
  },
  {
   "cell_type": "markdown",
   "metadata": {},
   "source": [
    "2. Definir la función max_repetido(lista), la cual recibe como parámetro una lista en el formato anterior. "
   ]
  },
  {
   "cell_type": "code",
   "execution_count": 16,
   "metadata": {},
   "outputs": [
    {
     "data": {
      "text/plain": [
       "7"
      ]
     },
     "execution_count": 16,
     "metadata": {},
     "output_type": "execute_result"
    }
   ],
   "source": [
    "def max_repetido(lista):\n",
    "    # Crear una lista de números únicos\n",
    "    num_unicos=[]\n",
    "    for numero in lista:\n",
    "        if numero not in num_unicos:\n",
    "            num_unicos.append(numero)\n",
    "\n",
    "    # Contar las repeticiones\n",
    "    repeticiones=[]\n",
    "    for numero in num_unicos:\n",
    "        contador = lista.count(numero)\n",
    "        repeticiones.append(contador)\n",
    "    \n",
    "    max_repeticiones = max(repeticiones)\n",
    "\n",
    "    return max_repeticiones\n",
    "\n",
    "lista = [1,4,6,2,4,3,1,1,3,5,6,7,3,4,5,5,5,3,3,2,1,2,1,1,1,2,6,6]\n",
    "max_repetido(lista)"
   ]
  },
  {
   "cell_type": "markdown",
   "metadata": {},
   "source": [
    "1. Agregar un entero en una lista y ordenar"
   ]
  },
  {
   "cell_type": "code",
   "execution_count": null,
   "metadata": {},
   "outputs": [],
   "source": [
    "def agregar_entero(lista, entero):\n",
    "    lista.append(entero)\n",
    "    lista.sort()\n",
    "\n",
    "    return lista\n",
    "\n",
    "lista = [-50, -47, -40, -35, -32, -21, -15, 14, 19, 23, 42, 50]\n",
    "\n",
    "agregar_entero(lista, 30)"
   ]
  }
 ],
 "metadata": {
  "kernelspec": {
   "display_name": "base",
   "language": "python",
   "name": "python3"
  },
  "language_info": {
   "codemirror_mode": {
    "name": "ipython",
    "version": 3
   },
   "file_extension": ".py",
   "mimetype": "text/x-python",
   "name": "python",
   "nbconvert_exporter": "python",
   "pygments_lexer": "ipython3",
   "version": "3.12.7"
  }
 },
 "nbformat": 4,
 "nbformat_minor": 2
}
