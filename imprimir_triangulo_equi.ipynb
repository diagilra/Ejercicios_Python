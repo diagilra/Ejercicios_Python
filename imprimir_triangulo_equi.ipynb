{
 "cells": [
  {
   "cell_type": "code",
   "execution_count": 3,
   "metadata": {},
   "outputs": [
    {
     "name": "stdout",
     "output_type": "stream",
     "text": [
      "     *\n",
      "    ***\n",
      "   *****\n",
      "  *******\n",
      " *********\n",
      "***********\n"
     ]
    }
   ],
   "source": [
    "#Esta es la solución 1\n",
    "def print_triangle(size, character):\n",
    "    triangle=\"\"\n",
    "    for i in range(1, size + 1):\n",
    "        spaces = \" \" * (size - i)\n",
    "        line = character * (2 * i - 1)\n",
    "        if i == size:\n",
    "         triangle += spaces + line\n",
    "        else:   \n",
    "         triangle += spaces + line + \"\\n\"\n",
    "    return triangle\n",
    "\n",
    "print(print_triangle(6, \"*\"))"
   ]
  },
  {
   "cell_type": "code",
   "execution_count": 4,
   "metadata": {},
   "outputs": [
    {
     "name": "stdout",
     "output_type": "stream",
     "text": [
      "     *\n",
      "    ***\n",
      "   *****\n",
      "  *******\n",
      " *********\n",
      "***********\n"
     ]
    }
   ],
   "source": [
    "# Solución 2\n",
    "def print_triangle2(size, character):\n",
    "    for i in range(1, size + 1):\n",
    "        spaces = \" \" * (size - i)\n",
    "        print(spaces + character * (2 * i - 1))\n",
    "\n",
    "print_triangle2(6, \"*\")"
   ]
  }
 ],
 "metadata": {
  "kernelspec": {
   "display_name": "base",
   "language": "python",
   "name": "python3"
  },
  "language_info": {
   "codemirror_mode": {
    "name": "ipython",
    "version": 3
   },
   "file_extension": ".py",
   "mimetype": "text/x-python",
   "name": "python",
   "nbconvert_exporter": "python",
   "pygments_lexer": "ipython3",
   "version": "3.12.7"
  }
 },
 "nbformat": 4,
 "nbformat_minor": 2
}
