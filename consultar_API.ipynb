{
 "cells": [
  {
   "cell_type": "code",
   "execution_count": 1,
   "metadata": {},
   "outputs": [
    {
     "name": "stdout",
     "output_type": "stream",
     "text": [
      "   id              name   username                      email   \n",
      "0   1     Leanne Graham       Bret          Sincere@april.biz  \\\n",
      "1   2      Ervin Howell  Antonette          Shanna@melissa.tv   \n",
      "2   3  Clementine Bauch   Samantha         Nathan@yesenia.net   \n",
      "3   4  Patricia Lebsack   Karianne  Julianne.OConner@kory.org   \n",
      "4   5  Chelsey Dietrich     Kamren   Lucio_Hettinger@annie.ca   \n",
      "\n",
      "                                             address                  phone   \n",
      "0  {'street': 'Kulas Light', 'suite': 'Apt. 556',...  1-770-736-8031 x56442  \\\n",
      "1  {'street': 'Victor Plains', 'suite': 'Suite 87...    010-692-6593 x09125   \n",
      "2  {'street': 'Douglas Extension', 'suite': 'Suit...         1-463-123-4447   \n",
      "3  {'street': 'Hoeger Mall', 'suite': 'Apt. 692',...      493-170-9623 x156   \n",
      "4  {'street': 'Skiles Walks', 'suite': 'Suite 351...          (254)954-1289   \n",
      "\n",
      "         website                                            company  \n",
      "0  hildegard.org  {'name': 'Romaguera-Crona', 'catchPhrase': 'Mu...  \n",
      "1  anastasia.net  {'name': 'Deckow-Crist', 'catchPhrase': 'Proac...  \n",
      "2    ramiro.info  {'name': 'Romaguera-Jacobson', 'catchPhrase': ...  \n",
      "3       kale.biz  {'name': 'Robel-Corkery', 'catchPhrase': 'Mult...  \n",
      "4   demarco.info  {'name': 'Keebler LLC', 'catchPhrase': 'User-c...  \n"
     ]
    }
   ],
   "source": [
    "import pandas as pd\n",
    "import requests\n",
    "\n",
    "\n",
    "url = \"https://jsonplaceholder.typicode.com/users\"\n",
    "response = requests.get(url)\n",
    "data = response.json()\n",
    "df = pd.DataFrame(data)\n",
    "print(df.head())"
   ]
  },
  {
   "cell_type": "code",
   "execution_count": null,
   "metadata": {},
   "outputs": [],
   "source": []
  }
 ],
 "metadata": {
  "kernelspec": {
   "display_name": "Python 3",
   "language": "python",
   "name": "python3"
  },
  "language_info": {
   "codemirror_mode": {
    "name": "ipython",
    "version": 3
   },
   "file_extension": ".py",
   "mimetype": "text/x-python",
   "name": "python",
   "nbconvert_exporter": "python",
   "pygments_lexer": "ipython3",
   "version": "3.11.3"
  }
 },
 "nbformat": 4,
 "nbformat_minor": 2
}
